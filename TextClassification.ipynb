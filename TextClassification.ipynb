{
 "cells": [
  {
   "cell_type": "code",
   "execution_count": 1,
   "metadata": {},
   "outputs": [],
   "source": [
    "#importing libraries\n",
    "import numpy as np \n",
    "import pandas as pd \n",
    "import os\n",
    "from sklearn.model_selection import train_test_split\n",
    "import re\n",
    "import matplotlib.pyplot as plt\n",
    "from sklearn.metrics import accuracy_score"
   ]
  },
  {
   "cell_type": "code",
   "execution_count": 2,
   "metadata": {},
   "outputs": [
    {
     "name": "stdout",
     "output_type": "stream",
     "text": [
      "C:\\Users\\Aksht Jain\\ML\n"
     ]
    }
   ],
   "source": [
    "print(os.getcwd())"
   ]
  },
  {
   "cell_type": "code",
   "execution_count": 3,
   "metadata": {},
   "outputs": [],
   "source": [
    "#importing the data\n",
    "filename = [\"mini_newsgroups\"]\n",
    "i = 0\n",
    "l = []\n",
    "names = []\n",
    "for f in filename:\n",
    "    for folder in os.listdir(f\"{f}/{f}\"):\n",
    "        names.append(folder)\n",
    "        for file in os.listdir(f\"{f}/{f}/{folder}\"):\n",
    "            a = open(f\"{f}/{f}/{folder}/{file}\",\"r+\")\n",
    "            l.append([a.read(), folder])\n",
    "            a.close()"
   ]
  },
  {
   "cell_type": "code",
   "execution_count": 4,
   "metadata": {},
   "outputs": [],
   "source": [
    "l = np.array(l)"
   ]
  },
  {
   "cell_type": "code",
   "execution_count": 42,
   "metadata": {},
   "outputs": [],
   "source": [
    "x_train, x_test = train_test_split(l, random_state = 1)"
   ]
  },
  {
   "cell_type": "code",
   "execution_count": 43,
   "metadata": {},
   "outputs": [],
   "source": [
    "flat_list=[word for line in x_train[0][0] for word in line.split()]"
   ]
  },
  {
   "cell_type": "code",
   "execution_count": 44,
   "metadata": {},
   "outputs": [
    {
     "data": {
      "text/plain": [
       "'Xref: cantaloupe.srv.cs.cmu.edu misc.forsale:76254 misc.forsale.computers.other:5308 misc.forsale.computers.pc-clone:8240 misc.forsale.computers.workstation:1710\\nPath: cantaloupe.srv.cs.cmu.edu!das-news.harvard.edu!noc.near.net!howland.reston.ans.net!usc!cs.utexas.edu!uwm.edu!caen!batcomputer!alchemy.TN.Cornell.EDU!matthew\\nFrom: matthew@alchemy.TN.Cornell.EDU (Matthew Kleinmann)\\nNewsgroups: ny.forsale,misc.forsale,misc.forsale.computers.other,misc.forsale.computers.pc-clone,misc.forsale.computers.workstation\\nSubject: Computer Stuff for sale\\nDate: 23 Apr 1993 18:41:19 GMT\\nOrganization: Alchemy International\\nLines: 16\\nMessage-ID: <1r9d8f$ptc@fitz.TC.Cornell.EDU>\\nNNTP-Posting-Host: alchemy.tn.cornell.edu\\n\\nHP 9872B 4 pen plotter.\\t\\t\\t\\t\\t\\t\\t$150\\nFujistu M2451E 130 meg SCSI tape drive\\t\\t\\t\\t\\t$150\\nSony 40 meg SCSI disk drive (sticks once in a while)\\t\\t\\t$50\\nDead Maxtor XT4380E 338 meg ESDI drive\\t\\t\\t\\t\\t$100\\nDead Miniscribe 20 meg SCSI drive\\t\\t\\t\\t\\t$10\\nAdaptac SCSI to ST-412 interface board\\t\\t\\t\\t\\t$20\\nDaughter boards from tape drives ?QIC-02 - QIC-36?\\t\\t\\t$20\\nTwist Terms (VT100 terms that the head twists on for 80x25 or 80x72) \\t$150\\n14\" Analog RGB color monitor (15.7 Khz works nice with amiga\\'s)\\t\\t$100\\nSpool with 90+ feet of 50 conductor ribbon cable\\t\\t\\t$75\\n\\nAll prices are or best offer.  Prices do not include UPS shipping.  All items\\nworking except those stated as Dead.\\n\\n--Matthew\\n\\n'"
      ]
     },
     "execution_count": 44,
     "metadata": {},
     "output_type": "execute_result"
    }
   ],
   "source": [
    "x_train[0][0]"
   ]
  },
  {
   "cell_type": "code",
   "execution_count": 45,
   "metadata": {},
   "outputs": [],
   "source": [
    "#experimental code to just check a few thing \n",
    "listi = [word for word in x_train[0][0].split(' ')]\n",
    "# listi"
   ]
  },
  {
   "cell_type": "code",
   "execution_count": 46,
   "metadata": {},
   "outputs": [],
   "source": [
    "stopwords = set([u'your', u'yours', u'yourself', u'yourselves', u'he', u'him', u'his', u'himself', u'she', \n",
    "u\"she's\", u'her', u'hers', u'herself', u'it', u\"it's\", u'its', u'itself', u'they', u'them', \n",
    "u'their', u'theirs', u'themselves', u'what', u'which', u'who', u'whom', u'this', \n",
    "u'that', u\"that'll\", u'these', u'those', u'am', u'is', u'are', u'was', u'were', u'be',\n",
    "u'been', u'being', u'have', u'has', u'had', u'having', u'do', u'does', u'did', u'doing',\n",
    "u'a', u'an', u'the', u'and', u'but', u'if', u'or', u'because', u'as', u'until',\n",
    "u'while', u'of', u'at'])"
   ]
  },
  {
   "cell_type": "code",
   "execution_count": 47,
   "metadata": {},
   "outputs": [
    {
     "data": {
      "image/png": "[encoded data removed]",
      "text/plain": [
       "<Figure size 432x288 with 1 Axes>"
      ]
     },
     "metadata": {
      "needs_background": "light"
     },
     "output_type": "display_data"
    }
   ],
   "source": [
    "#preparing vocabulary\n",
    "vocab = {}\n",
    "for file in x_train:\n",
    "    words = []\n",
    "    for a in re.split(';|,|\\n|:',file[0]) :\n",
    "        for word in a.strip().replace(\".\",\"\").split(' '):\n",
    "            words.append(word)\n",
    "    for word in words:\n",
    "        word = word.lower()\n",
    "        if word in stopwords:\n",
    "            continue\n",
    "        if word in vocab.keys():\n",
    "            vocab[word] += 1\n",
    "        else :\n",
    "            vocab[word] = 1\n",
    "\n",
    "\n",
    "#just an experiment to see the pattern in the frequency of words \n",
    "freq = []\n",
    "for key in vocab.keys():\n",
    "    freq.append(vocab[key])\n",
    "    \n",
    "freq_dict ={}\n",
    "for fr in freq:\n",
    "    if fr in freq_dict.keys():\n",
    "        freq_dict[fr] += 1\n",
    "    else :\n",
    "        freq_dict[fr] = 1\n",
    "        \n",
    "x_list = []\n",
    "y_list = []\n",
    "for key in freq_dict.keys():\n",
    "    if key < 5 or key > 20 :\n",
    "        continue\n",
    "    x_list.append(key)\n",
    "    y_list.append(freq_dict[key])\n",
    "    \n",
    "plt.scatter(x_list,y_list)\n",
    "plt.show()"
   ]
  },
  {
   "cell_type": "code",
   "execution_count": 48,
   "metadata": {},
   "outputs": [
    {
     "data": {
      "text/plain": [
       "58848"
      ]
     },
     "execution_count": 48,
     "metadata": {},
     "output_type": "execute_result"
    }
   ],
   "source": [
    "len(vocab.keys())"
   ]
  },
  {
   "cell_type": "code",
   "execution_count": 49,
   "metadata": {},
   "outputs": [
    {
     "name": "stdout",
     "output_type": "stream",
     "text": [
      "4439\n"
     ]
    }
   ],
   "source": [
    "#to remove the words whose frequency is very less and which would not make up to be good feature\n",
    "to_remove = []\n",
    "for key in vocab.keys():\n",
    "    # Different values can be tried here \n",
    "    if vocab[key] < 10:\n",
    "        to_remove.append(key)\n",
    "\n",
    "for key in to_remove:\n",
    "    del vocab[key]\n",
    "    \n",
    "print(len(vocab.keys()))"
   ]
  },
  {
   "cell_type": "code",
   "execution_count": 50,
   "metadata": {},
   "outputs": [
    {
     "data": {
      "text/plain": [
       "4439"
      ]
     },
     "execution_count": 50,
     "metadata": {},
     "output_type": "execute_result"
    }
   ],
   "source": [
    "word_order = [key for key in vocab.keys()]\n",
    "len(word_order)"
   ]
  },
  {
   "cell_type": "code",
   "execution_count": 51,
   "metadata": {},
   "outputs": [],
   "source": [
    "df = pd.DataFrame(np.zeros(shape = (len(x_train), len(word_order)))  , columns = word_order)"
   ]
  },
  {
   "cell_type": "code",
   "execution_count": 52,
   "metadata": {},
   "outputs": [
    {
     "data": {
      "text/plain": [
       "(1500, 4439)"
      ]
     },
     "execution_count": 52,
     "metadata": {},
     "output_type": "execute_result"
    }
   ],
   "source": [
    "df.shape"
   ]
  },
  {
   "cell_type": "code",
   "execution_count": 53,
   "metadata": {},
   "outputs": [],
   "source": [
    "#creating the dataset\n",
    "for i in range(len(x_train)):\n",
    "    file = x_train[i]\n",
    "    words = []\n",
    "    for a in re.split(';|,|\\n|:',file[0]) :\n",
    "        for word in a.strip().replace(\".\",\"\").split(' '):\n",
    "            words.append(word)\n",
    "    for word in words:\n",
    "        word = word.lower()\n",
    "        if word not in vocab.keys():\n",
    "            continue\n",
    "        df.at[i,word] += 1\n",
    "        "
   ]
  },
  {
   "cell_type": "code",
   "execution_count": 55,
   "metadata": {},
   "outputs": [],
   "source": [
    "# df.loc[:,\"formatted\"].sum()"
   ]
  },
  {
   "cell_type": "code",
   "execution_count": 56,
   "metadata": {},
   "outputs": [
    {
     "name": "stdout",
     "output_type": "stream",
     "text": [
      "['alt.atheism', 'comp.graphics', 'comp.os.ms-windows.misc', 'comp.sys.ibm.pc.hardware', 'comp.sys.mac.hardware', 'comp.windows.x', 'misc.forsale', 'rec.autos', 'rec.motorcycles', 'rec.sport.baseball', 'rec.sport.hockey', 'sci.crypt', 'sci.electronics', 'sci.med', 'sci.space', 'soc.religion.christian', 'talk.politics.guns', 'talk.politics.mideast', 'talk.politics.misc', 'talk.religion.misc']\n"
     ]
    }
   ],
   "source": [
    "print(names)"
   ]
  },
  {
   "cell_type": "code",
   "execution_count": 57,
   "metadata": {},
   "outputs": [
    {
     "name": "stdout",
     "output_type": "stream",
     "text": [
      "353748.0\n"
     ]
    }
   ],
   "source": [
    "(x_train[: ,1] == 'alt.atheism').sum()\n",
    "print(df.sum().sum())"
   ]
  },
  {
   "cell_type": "code",
   "execution_count": 58,
   "metadata": {},
   "outputs": [],
   "source": [
    "#building our data in a python dictionary structure in order to perform the naive bayes algo on the test_data efficiently \n",
    "output = {}\n",
    "for label in names : \n",
    "    output[label] = {}\n",
    "    df_temp = df[x_train[:,1] == label]\n",
    "    tot = df_temp.sum().sum()\n",
    "    output[label][\"tot_words_present\"] = tot\n",
    "    output[label][\"size_of_the_label\"] = df_temp.shape[0]\n",
    "    for word in vocab.keys():\n",
    "        output[label][word] = df_temp.loc[:,word].sum()\n",
    "\n",
    "# prediction using naive bayes\n",
    "y_pred = []\n",
    "for file in x_test:\n",
    "    words = []\n",
    "    for a in re.split(';|,|\\n|:',file[0]) :\n",
    "        for word in a.strip().replace(\".\",\"\").split(' '):\n",
    "            words.append(word)\n",
    "    maxi = -5000000\n",
    "    pred = \"\"\n",
    "    for label in names:\n",
    "        prob = np.log(output[label][\"size_of_the_label\"]) - np.log(df.shape[0])\n",
    "        for word in words:\n",
    "            word = word.lower()\n",
    "            if word not in vocab.keys():\n",
    "                continue\n",
    "            numer = output[label][word] + 1\n",
    "            denum = output[label][\"tot_words_present\"] + len(vocab.keys())\n",
    "            prob += np.log(numer) - np.log(denum)\n",
    "            \n",
    "        if prob > maxi:\n",
    "            pred = label\n",
    "            maxi = prob\n",
    "    \n",
    "    y_pred.append(pred)"
   ]
  },
  {
   "cell_type": "code",
   "execution_count": 59,
   "metadata": {},
   "outputs": [
    {
     "data": {
      "text/plain": [
       "0.698"
      ]
     },
     "execution_count": 59,
     "metadata": {},
     "output_type": "execute_result"
    }
   ],
   "source": [
    "accuracy_score(x_test[:,1],y_pred)"
   ]
  },
  {
   "cell_type": "code",
   "execution_count": 60,
   "metadata": {},
   "outputs": [],
   "source": [
    "# some newsgroups were in the format such that the that they had subgroups\n",
    "# for example sci.space and sci.med , although both are different newsgroup but are under a main umbrella i.e science \n",
    "# so i tested the accuracy of predicting the correct overhead topic and turns out it is better than the actual accuracy \n",
    "# this means that(lets say) if article of sci.space does not get classified correctly it has higher probablity to get\n",
    "# classified as sci.med than some other random newsgroup \n",
    "a = [label.split('.')[0] for label in x_test[:,1]]\n",
    "b = [label.split('.')[0] for label in y_pred]"
   ]
  },
  {
   "cell_type": "code",
   "execution_count": 61,
   "metadata": {},
   "outputs": [
    {
     "data": {
      "text/plain": [
       "0.822"
      ]
     },
     "execution_count": 61,
     "metadata": {},
     "output_type": "execute_result"
    }
   ],
   "source": [
    "accuracy_score(a,b)"
   ]
  },
  {
   "cell_type": "code",
   "execution_count": 62,
   "metadata": {},
   "outputs": [
    {
     "data": {
      "text/plain": [
       "['comp.sys.ibm.pc.hardware',\n",
       " 'talk.politics.guns',\n",
       " 'comp.sys.ibm.pc.hardware',\n",
       " 'sci.med',\n",
       " 'comp.os.ms-windows.misc',\n",
       " 'talk.politics.guns',\n",
       " 'misc.forsale',\n",
       " 'comp.sys.mac.hardware',\n",
       " 'sci.crypt',\n",
       " 'rec.motorcycles',\n",
       " 'sci.space',\n",
       " 'rec.sport.hockey',\n",
       " 'talk.politics.guns',\n",
       " 'sci.crypt',\n",
       " 'comp.sys.mac.hardware',\n",
       " 'talk.politics.mideast',\n",
       " 'misc.forsale',\n",
       " 'rec.autos',\n",
       " 'rec.motorcycles',\n",
       " 'sci.space',\n",
       " 'comp.os.ms-windows.misc',\n",
       " 'talk.politics.misc',\n",
       " 'talk.politics.misc',\n",
       " 'rec.motorcycles',\n",
       " 'misc.forsale',\n",
       " 'comp.sys.ibm.pc.hardware',\n",
       " 'rec.sport.hockey',\n",
       " 'comp.sys.ibm.pc.hardware',\n",
       " 'comp.os.ms-windows.misc',\n",
       " 'misc.forsale',\n",
       " 'talk.religion.misc',\n",
       " 'rec.motorcycles',\n",
       " 'talk.politics.guns',\n",
       " 'rec.autos',\n",
       " 'comp.windows.x',\n",
       " 'rec.autos',\n",
       " 'rec.sport.hockey',\n",
       " 'talk.religion.misc',\n",
       " 'rec.motorcycles',\n",
       " 'talk.politics.mideast',\n",
       " 'comp.sys.ibm.pc.hardware',\n",
       " 'comp.os.ms-windows.misc',\n",
       " 'sci.crypt',\n",
       " 'rec.sport.hockey',\n",
       " 'rec.sport.baseball',\n",
       " 'talk.politics.guns',\n",
       " 'misc.forsale',\n",
       " 'talk.politics.mideast',\n",
       " 'talk.politics.misc',\n",
       " 'talk.politics.misc',\n",
       " 'talk.politics.misc',\n",
       " 'rec.sport.hockey',\n",
       " 'comp.graphics',\n",
       " 'comp.sys.ibm.pc.hardware',\n",
       " 'misc.forsale',\n",
       " 'rec.autos',\n",
       " 'misc.forsale',\n",
       " 'rec.sport.hockey',\n",
       " 'talk.politics.guns',\n",
       " 'alt.atheism',\n",
       " 'rec.sport.hockey',\n",
       " 'comp.graphics',\n",
       " 'sci.crypt',\n",
       " 'misc.forsale',\n",
       " 'sci.space',\n",
       " 'rec.sport.hockey',\n",
       " 'comp.os.ms-windows.misc',\n",
       " 'comp.windows.x',\n",
       " 'rec.autos',\n",
       " 'rec.sport.hockey',\n",
       " 'talk.politics.misc',\n",
       " 'talk.politics.guns',\n",
       " 'talk.politics.misc',\n",
       " 'talk.religion.misc',\n",
       " 'sci.space',\n",
       " 'rec.sport.baseball',\n",
       " 'sci.med',\n",
       " 'sci.crypt',\n",
       " 'sci.space',\n",
       " 'talk.politics.misc',\n",
       " 'comp.sys.ibm.pc.hardware',\n",
       " 'misc.forsale',\n",
       " 'comp.graphics',\n",
       " 'comp.graphics',\n",
       " 'rec.motorcycles',\n",
       " 'sci.electronics',\n",
       " 'rec.sport.hockey',\n",
       " 'alt.atheism',\n",
       " 'comp.sys.ibm.pc.hardware',\n",
       " 'comp.os.ms-windows.misc',\n",
       " 'comp.sys.ibm.pc.hardware',\n",
       " 'rec.sport.baseball',\n",
       " 'comp.os.ms-windows.misc',\n",
       " 'talk.religion.misc',\n",
       " 'talk.politics.mideast',\n",
       " 'comp.windows.x',\n",
       " 'sci.electronics',\n",
       " 'rec.sport.hockey',\n",
       " 'alt.atheism',\n",
       " 'alt.atheism',\n",
       " 'talk.politics.guns',\n",
       " 'comp.graphics',\n",
       " 'rec.sport.baseball',\n",
       " 'alt.atheism',\n",
       " 'comp.sys.ibm.pc.hardware',\n",
       " 'alt.atheism',\n",
       " 'talk.politics.mideast',\n",
       " 'misc.forsale',\n",
       " 'rec.autos',\n",
       " 'rec.sport.hockey',\n",
       " 'comp.graphics',\n",
       " 'comp.sys.mac.hardware',\n",
       " 'sci.space',\n",
       " 'talk.politics.guns',\n",
       " 'comp.sys.mac.hardware',\n",
       " 'rec.motorcycles',\n",
       " 'rec.autos',\n",
       " 'rec.sport.hockey',\n",
       " 'soc.religion.christian',\n",
       " 'rec.autos',\n",
       " 'rec.sport.hockey',\n",
       " 'rec.autos',\n",
       " 'talk.politics.guns',\n",
       " 'sci.electronics',\n",
       " 'rec.motorcycles',\n",
       " 'sci.med',\n",
       " 'rec.autos',\n",
       " 'misc.forsale',\n",
       " 'sci.med',\n",
       " 'rec.sport.baseball',\n",
       " 'rec.sport.hockey',\n",
       " 'rec.autos',\n",
       " 'rec.autos',\n",
       " 'comp.sys.mac.hardware',\n",
       " 'misc.forsale',\n",
       " 'rec.sport.baseball',\n",
       " 'soc.religion.christian',\n",
       " 'comp.sys.ibm.pc.hardware',\n",
       " 'talk.politics.mideast',\n",
       " 'comp.windows.x',\n",
       " 'rec.motorcycles',\n",
       " 'comp.sys.mac.hardware',\n",
       " 'talk.politics.mideast',\n",
       " 'sci.med',\n",
       " 'comp.windows.x',\n",
       " 'sci.space',\n",
       " 'sci.crypt',\n",
       " 'talk.religion.misc',\n",
       " 'rec.sport.hockey',\n",
       " 'talk.politics.guns',\n",
       " 'comp.windows.x',\n",
       " 'comp.sys.ibm.pc.hardware',\n",
       " 'rec.sport.hockey',\n",
       " 'rec.sport.baseball',\n",
       " 'comp.graphics',\n",
       " 'soc.religion.christian',\n",
       " 'sci.electronics',\n",
       " 'talk.politics.guns',\n",
       " 'misc.forsale',\n",
       " 'sci.space',\n",
       " 'sci.crypt',\n",
       " 'soc.religion.christian',\n",
       " 'sci.crypt',\n",
       " 'misc.forsale',\n",
       " 'comp.graphics',\n",
       " 'soc.religion.christian',\n",
       " 'misc.forsale',\n",
       " 'comp.sys.ibm.pc.hardware',\n",
       " 'comp.sys.ibm.pc.hardware',\n",
       " 'rec.sport.hockey',\n",
       " 'rec.sport.hockey',\n",
       " 'talk.politics.guns',\n",
       " 'comp.graphics',\n",
       " 'soc.religion.christian',\n",
       " 'misc.forsale',\n",
       " 'comp.sys.mac.hardware',\n",
       " 'comp.sys.ibm.pc.hardware',\n",
       " 'rec.motorcycles',\n",
       " 'comp.windows.x',\n",
       " 'sci.electronics',\n",
       " 'rec.sport.hockey',\n",
       " 'talk.politics.guns',\n",
       " 'misc.forsale',\n",
       " 'talk.religion.misc',\n",
       " 'rec.sport.hockey',\n",
       " 'talk.politics.misc',\n",
       " 'comp.sys.ibm.pc.hardware',\n",
       " 'sci.space',\n",
       " 'comp.graphics',\n",
       " 'misc.forsale',\n",
       " 'rec.sport.hockey',\n",
       " 'soc.religion.christian',\n",
       " 'sci.electronics',\n",
       " 'soc.religion.christian',\n",
       " 'comp.os.ms-windows.misc',\n",
       " 'talk.religion.misc',\n",
       " 'comp.graphics',\n",
       " 'comp.sys.ibm.pc.hardware',\n",
       " 'rec.sport.baseball',\n",
       " 'alt.atheism',\n",
       " 'comp.windows.x',\n",
       " 'sci.crypt',\n",
       " 'soc.religion.christian',\n",
       " 'misc.forsale',\n",
       " 'talk.religion.misc',\n",
       " 'rec.motorcycles',\n",
       " 'sci.space',\n",
       " 'talk.politics.mideast',\n",
       " 'comp.windows.x',\n",
       " 'rec.motorcycles',\n",
       " 'talk.politics.guns',\n",
       " 'talk.politics.misc',\n",
       " 'comp.sys.ibm.pc.hardware',\n",
       " 'misc.forsale',\n",
       " 'rec.motorcycles',\n",
       " 'comp.sys.ibm.pc.hardware',\n",
       " 'rec.sport.baseball',\n",
       " 'comp.sys.mac.hardware',\n",
       " 'talk.politics.mideast',\n",
       " 'rec.sport.baseball',\n",
       " 'alt.atheism',\n",
       " 'talk.politics.guns',\n",
       " 'sci.med',\n",
       " 'rec.sport.hockey',\n",
       " 'talk.politics.guns',\n",
       " 'alt.atheism',\n",
       " 'rec.motorcycles',\n",
       " 'rec.sport.baseball',\n",
       " 'comp.os.ms-windows.misc',\n",
       " 'soc.religion.christian',\n",
       " 'sci.med',\n",
       " 'sci.electronics',\n",
       " 'talk.politics.mideast',\n",
       " 'rec.sport.baseball',\n",
       " 'comp.os.ms-windows.misc',\n",
       " 'rec.autos',\n",
       " 'rec.autos',\n",
       " 'sci.space',\n",
       " 'rec.sport.hockey',\n",
       " 'soc.religion.christian',\n",
       " 'soc.religion.christian',\n",
       " 'misc.forsale',\n",
       " 'comp.windows.x',\n",
       " 'talk.politics.misc',\n",
       " 'alt.atheism',\n",
       " 'comp.os.ms-windows.misc',\n",
       " 'rec.sport.hockey',\n",
       " 'rec.sport.baseball',\n",
       " 'talk.religion.misc',\n",
       " 'talk.religion.misc',\n",
       " 'comp.sys.ibm.pc.hardware',\n",
       " 'comp.os.ms-windows.misc',\n",
       " 'sci.electronics',\n",
       " 'rec.sport.baseball',\n",
       " 'soc.religion.christian',\n",
       " 'sci.crypt',\n",
       " 'rec.sport.hockey',\n",
       " 'talk.politics.mideast',\n",
       " 'rec.autos',\n",
       " 'comp.os.ms-windows.misc',\n",
       " 'sci.med',\n",
       " 'rec.sport.hockey',\n",
       " 'alt.atheism',\n",
       " 'talk.religion.misc',\n",
       " 'talk.politics.guns',\n",
       " 'misc.forsale',\n",
       " 'misc.forsale',\n",
       " 'sci.med',\n",
       " 'rec.sport.hockey',\n",
       " 'sci.crypt',\n",
       " 'comp.sys.ibm.pc.hardware',\n",
       " 'talk.politics.misc',\n",
       " 'rec.motorcycles',\n",
       " 'rec.autos',\n",
       " 'rec.sport.hockey',\n",
       " 'rec.motorcycles',\n",
       " 'alt.atheism',\n",
       " 'rec.sport.hockey',\n",
       " 'comp.os.ms-windows.misc',\n",
       " 'rec.sport.baseball',\n",
       " 'comp.graphics',\n",
       " 'soc.religion.christian',\n",
       " 'comp.windows.x',\n",
       " 'rec.sport.hockey',\n",
       " 'sci.space',\n",
       " 'sci.crypt',\n",
       " 'rec.sport.hockey',\n",
       " 'comp.os.ms-windows.misc',\n",
       " 'sci.crypt',\n",
       " 'rec.sport.hockey',\n",
       " 'sci.med',\n",
       " 'alt.atheism',\n",
       " 'soc.religion.christian',\n",
       " 'rec.sport.hockey',\n",
       " 'talk.politics.mideast',\n",
       " 'comp.graphics',\n",
       " 'rec.autos',\n",
       " 'comp.windows.x',\n",
       " 'sci.med',\n",
       " 'comp.sys.mac.hardware',\n",
       " 'comp.os.ms-windows.misc',\n",
       " 'talk.politics.guns',\n",
       " 'talk.politics.misc',\n",
       " 'talk.politics.mideast',\n",
       " 'rec.sport.baseball',\n",
       " 'sci.space',\n",
       " 'soc.religion.christian',\n",
       " 'rec.sport.baseball',\n",
       " 'talk.politics.mideast',\n",
       " 'sci.electronics',\n",
       " 'talk.politics.misc',\n",
       " 'rec.autos',\n",
       " 'comp.os.ms-windows.misc',\n",
       " 'talk.politics.misc',\n",
       " 'rec.autos',\n",
       " 'alt.atheism',\n",
       " 'comp.windows.x',\n",
       " 'rec.sport.baseball',\n",
       " 'alt.atheism',\n",
       " 'rec.sport.hockey',\n",
       " 'soc.religion.christian',\n",
       " 'talk.religion.misc',\n",
       " 'comp.os.ms-windows.misc',\n",
       " 'talk.politics.guns',\n",
       " 'talk.religion.misc',\n",
       " 'talk.religion.misc',\n",
       " 'comp.sys.mac.hardware',\n",
       " 'talk.politics.guns',\n",
       " 'comp.graphics',\n",
       " 'rec.motorcycles',\n",
       " 'alt.atheism',\n",
       " 'talk.politics.guns',\n",
       " 'sci.med',\n",
       " 'comp.windows.x',\n",
       " 'sci.space',\n",
       " 'comp.windows.x',\n",
       " 'rec.motorcycles',\n",
       " 'comp.sys.ibm.pc.hardware',\n",
       " 'comp.windows.x',\n",
       " 'comp.os.ms-windows.misc',\n",
       " 'comp.sys.ibm.pc.hardware',\n",
       " 'comp.sys.mac.hardware',\n",
       " 'sci.crypt',\n",
       " 'comp.os.ms-windows.misc',\n",
       " 'talk.politics.guns',\n",
       " 'misc.forsale',\n",
       " 'rec.autos',\n",
       " 'alt.atheism',\n",
       " 'comp.graphics',\n",
       " 'sci.med',\n",
       " 'comp.sys.ibm.pc.hardware',\n",
       " 'comp.os.ms-windows.misc',\n",
       " 'soc.religion.christian',\n",
       " 'rec.sport.hockey',\n",
       " 'alt.atheism',\n",
       " 'comp.os.ms-windows.misc',\n",
       " 'comp.windows.x',\n",
       " 'rec.sport.baseball',\n",
       " 'rec.autos',\n",
       " 'talk.religion.misc',\n",
       " 'comp.os.ms-windows.misc',\n",
       " 'alt.atheism',\n",
       " 'sci.crypt',\n",
       " 'soc.religion.christian',\n",
       " 'talk.politics.mideast',\n",
       " 'comp.os.ms-windows.misc',\n",
       " 'sci.crypt',\n",
       " 'talk.politics.guns',\n",
       " 'rec.autos',\n",
       " 'rec.sport.hockey',\n",
       " 'rec.sport.hockey',\n",
       " 'talk.politics.misc',\n",
       " 'comp.sys.ibm.pc.hardware',\n",
       " 'comp.graphics',\n",
       " 'soc.religion.christian',\n",
       " 'comp.os.ms-windows.misc',\n",
       " 'talk.politics.guns',\n",
       " 'comp.graphics',\n",
       " 'talk.politics.misc',\n",
       " 'misc.forsale',\n",
       " 'misc.forsale',\n",
       " 'comp.graphics',\n",
       " 'comp.windows.x',\n",
       " 'talk.politics.mideast',\n",
       " 'alt.atheism',\n",
       " 'rec.sport.hockey',\n",
       " 'alt.atheism',\n",
       " 'rec.sport.hockey',\n",
       " 'talk.politics.misc',\n",
       " 'alt.atheism',\n",
       " 'rec.sport.hockey',\n",
       " 'rec.autos',\n",
       " 'misc.forsale',\n",
       " 'talk.politics.guns',\n",
       " 'sci.space',\n",
       " 'comp.sys.mac.hardware',\n",
       " 'talk.politics.guns',\n",
       " 'misc.forsale',\n",
       " 'talk.politics.guns',\n",
       " 'talk.religion.misc',\n",
       " 'talk.politics.mideast',\n",
       " 'rec.autos',\n",
       " 'rec.autos',\n",
       " 'misc.forsale',\n",
       " 'rec.sport.hockey',\n",
       " 'talk.politics.guns',\n",
       " 'comp.graphics',\n",
       " 'rec.sport.baseball',\n",
       " 'comp.sys.ibm.pc.hardware',\n",
       " 'comp.sys.ibm.pc.hardware',\n",
       " 'sci.electronics',\n",
       " 'sci.crypt',\n",
       " 'comp.sys.ibm.pc.hardware',\n",
       " 'rec.sport.baseball',\n",
       " 'alt.atheism',\n",
       " 'comp.sys.mac.hardware',\n",
       " 'soc.religion.christian',\n",
       " 'talk.politics.guns',\n",
       " 'sci.crypt',\n",
       " 'talk.politics.mideast',\n",
       " 'talk.politics.mideast',\n",
       " 'misc.forsale',\n",
       " 'talk.politics.guns',\n",
       " 'rec.sport.baseball',\n",
       " 'comp.os.ms-windows.misc',\n",
       " 'comp.sys.mac.hardware',\n",
       " 'misc.forsale',\n",
       " 'alt.atheism',\n",
       " 'comp.sys.mac.hardware',\n",
       " 'rec.sport.baseball',\n",
       " 'comp.sys.ibm.pc.hardware',\n",
       " 'talk.religion.misc',\n",
       " 'rec.sport.hockey',\n",
       " 'rec.autos',\n",
       " 'comp.sys.mac.hardware',\n",
       " 'rec.sport.hockey',\n",
       " 'talk.politics.mideast',\n",
       " 'talk.religion.misc',\n",
       " 'talk.politics.misc',\n",
       " 'comp.sys.ibm.pc.hardware',\n",
       " 'rec.sport.hockey',\n",
       " 'sci.electronics',\n",
       " 'talk.religion.misc',\n",
       " 'alt.atheism',\n",
       " 'talk.religion.misc',\n",
       " 'talk.politics.misc',\n",
       " 'misc.forsale',\n",
       " 'rec.sport.hockey',\n",
       " 'alt.atheism',\n",
       " 'comp.sys.mac.hardware',\n",
       " 'rec.autos',\n",
       " 'sci.med',\n",
       " 'comp.graphics',\n",
       " 'misc.forsale',\n",
       " 'rec.sport.hockey',\n",
       " 'rec.sport.hockey',\n",
       " 'comp.os.ms-windows.misc',\n",
       " 'comp.sys.ibm.pc.hardware',\n",
       " 'alt.atheism',\n",
       " 'talk.politics.mideast',\n",
       " 'rec.motorcycles',\n",
       " 'misc.forsale',\n",
       " 'talk.politics.guns',\n",
       " 'rec.sport.hockey',\n",
       " 'comp.sys.mac.hardware',\n",
       " 'rec.sport.baseball',\n",
       " 'sci.med',\n",
       " 'alt.atheism',\n",
       " 'talk.politics.misc',\n",
       " 'comp.os.ms-windows.misc',\n",
       " 'rec.sport.hockey',\n",
       " 'rec.motorcycles',\n",
       " 'comp.graphics',\n",
       " 'comp.sys.ibm.pc.hardware',\n",
       " 'sci.med',\n",
       " 'rec.sport.hockey',\n",
       " 'talk.politics.guns',\n",
       " 'comp.windows.x',\n",
       " 'soc.religion.christian',\n",
       " 'rec.autos',\n",
       " 'comp.sys.ibm.pc.hardware',\n",
       " 'comp.sys.mac.hardware',\n",
       " 'rec.sport.baseball',\n",
       " 'rec.sport.baseball',\n",
       " 'talk.politics.guns',\n",
       " 'comp.os.ms-windows.misc',\n",
       " 'comp.sys.ibm.pc.hardware',\n",
       " 'comp.sys.mac.hardware',\n",
       " 'misc.forsale',\n",
       " 'rec.sport.baseball',\n",
       " 'misc.forsale',\n",
       " 'rec.sport.baseball',\n",
       " 'alt.atheism',\n",
       " 'rec.sport.hockey',\n",
       " 'alt.atheism',\n",
       " 'comp.windows.x',\n",
       " 'sci.space',\n",
       " 'talk.politics.misc',\n",
       " 'comp.os.ms-windows.misc',\n",
       " 'comp.windows.x']"
      ]
     },
     "execution_count": 62,
     "metadata": {},
     "output_type": "execute_result"
    }
   ],
   "source": [
    "y_pred"
   ]
  },
  {
   "cell_type": "code",
   "execution_count": 63,
   "metadata": {},
   "outputs": [],
   "source": [
    "from sklearn.naive_bayes import MultinomialNB"
   ]
  },
  {
   "cell_type": "code",
   "execution_count": 64,
   "metadata": {},
   "outputs": [],
   "source": [
    "clf = MultinomialNB()"
   ]
  },
  {
   "cell_type": "code",
   "execution_count": 65,
   "metadata": {},
   "outputs": [
    {
     "data": {
      "text/plain": [
       "MultinomialNB(alpha=1.0, class_prior=None, fit_prior=True)"
      ]
     },
     "execution_count": 65,
     "metadata": {},
     "output_type": "execute_result"
    }
   ],
   "source": [
    "clf.fit(df,x_train[:,1])"
   ]
  },
  {
   "cell_type": "code",
   "execution_count": 66,
   "metadata": {},
   "outputs": [],
   "source": [
    "df_test = pd.DataFrame(np.zeros(shape = (len(x_test), len(word_order)))  , columns = word_order)\n",
    "for i in range(len(x_test)):\n",
    "    file = x_test[i]\n",
    "    words = []\n",
    "    for a in re.split(';|,|\\n|:',file[0]) :\n",
    "        for word in a.strip().replace(\".\",\"\").split(' '):\n",
    "            words.append(word)\n",
    "    for word in words:\n",
    "        word = word.lower()\n",
    "        if word not in vocab.keys():\n",
    "            continue\n",
    "        df_test.at[i,word] += 1 "
   ]
  },
  {
   "cell_type": "code",
   "execution_count": 67,
   "metadata": {},
   "outputs": [],
   "source": [
    "y_pred_sk = clf.predict(df_test)"
   ]
  },
  {
   "cell_type": "code",
   "execution_count": 68,
   "metadata": {},
   "outputs": [
    {
     "data": {
      "text/plain": [
       "0.698"
      ]
     },
     "execution_count": 68,
     "metadata": {},
     "output_type": "execute_result"
    }
   ],
   "source": [
    "accuracy_score(x_test[:,1],y_pred_sk)"
   ]
  },
  {
   "cell_type": "markdown",
   "metadata": {},
   "source": [
    "#### Got exactly same accuracy using sklearn multinomial naive bayes classifier and our own programmed classifier"
   ]
  },
  {
   "cell_type": "markdown",
   "metadata": {},
   "source": [
    "There were two datasets available on the website, one with 2,000 articles and the other with 20,000 because of computational power constrained, smaller dataset was choosen but the larger dataset would have resulted in better accuracy \n"
   ]
  },
  {
   "cell_type": "code",
   "execution_count": null,
   "metadata": {},
   "outputs": [],
   "source": []
  }
 ],
 "metadata": {
  "kernelspec": {
   "display_name": "Python 3",
   "language": "python",
   "name": "python3"
  },
  "language_info": {
   "codemirror_mode": {
    "name": "ipython",
    "version": 3
   },
   "file_extension": ".py",
   "mimetype": "text/x-python",
   "name": "python",
   "nbconvert_exporter": "python",
   "pygments_lexer": "ipython3",
   "version": "3.7.1"
  }
 },
 "nbformat": 4,
 "nbformat_minor": 2
}
